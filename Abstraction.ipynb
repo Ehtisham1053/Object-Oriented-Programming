{
  "nbformat": 4,
  "nbformat_minor": 0,
  "metadata": {
    "colab": {
      "provenance": [],
      "authorship_tag": "ABX9TyOcixNZAKdl7r+39xrxDD9y",
      "include_colab_link": true
    },
    "kernelspec": {
      "name": "python3",
      "display_name": "Python 3"
    },
    "language_info": {
      "name": "python"
    }
  },
  "cells": [
    {
      "cell_type": "markdown",
      "metadata": {
        "id": "view-in-github",
        "colab_type": "text"
      },
      "source": [
        "<a href=\"https://colab.research.google.com/github/Ehtisham1053/Object-Oriented-Programming/blob/main/Abstraction.ipynb\" target=\"_parent\"><img src=\"https://colab.research.google.com/assets/colab-badge.svg\" alt=\"Open In Colab\"/></a>"
      ]
    },
    {
      "cell_type": "markdown",
      "source": [
        "# 🧊 Abstraction in Python\n",
        "\n",
        "## 📌 What is Abstraction?\n",
        "\n",
        "**Abstraction** is one of the key principles of Object-Oriented Programming (OOP).  \n",
        "It is the process of **hiding internal implementation details** and **showing only the necessary features** of an object.\n",
        "\n",
        "In Python, abstraction is achieved using:\n",
        "\n",
        "- **Abstract Classes**\n",
        "- **Abstract Methods**\n",
        "\n",
        "We use the `abc` (Abstract Base Classes) module from Python's standard library to create abstract classes.\n",
        "\n",
        "---\n",
        "\n",
        "## 🧱 Abstract Class\n",
        "\n",
        "- A class that cannot be instantiated directly.\n",
        "- Contains one or more abstract methods (methods declared but not implemented).\n",
        "- Must be inherited and the abstract methods must be implemented in the subclass.\n",
        "\n",
        "### 🧪 Syntax:\n",
        "```python\n",
        "from abc import ABC, abstractmethod\n",
        "\n",
        "class AbstractClassName(ABC):\n",
        "    @abstractmethod\n",
        "    def method_name(self):\n",
        "        pass\n"
      ],
      "metadata": {
        "id": "zDBtTc6IWsR-"
      }
    },
    {
      "cell_type": "code",
      "execution_count": null,
      "metadata": {
        "id": "2qCpef-nWZCs"
      },
      "outputs": [],
      "source": [
        "'''\n",
        "🎯 Benefits of Abstraction\n",
        "Focus on what an object does instead of how it does it.\n",
        "\n",
        "Helps in managing complexity by hiding details.\n",
        "\n",
        "Enforces standardization via interface-like behavior.\n",
        "'''"
      ]
    },
    {
      "cell_type": "code",
      "source": [
        "from abc import ABC, abstractmethod\n",
        "\n",
        "class Vehicle(ABC):\n",
        "    \"\"\"Abstract class representing a vehicle.\"\"\"\n",
        "\n",
        "    @abstractmethod\n",
        "    def start_engine(self):\n",
        "        \"\"\"Abstract method to start the vehicle engine.\"\"\"\n",
        "        pass\n",
        "\n",
        "    @abstractmethod\n",
        "    def stop_engine(self):\n",
        "        \"\"\"Abstract method to stop the vehicle engine.\"\"\"\n",
        "        pass\n",
        "\n",
        "class Car(Vehicle):\n",
        "    \"\"\"Concrete class that implements the Vehicle abstract class.\"\"\"\n",
        "\n",
        "    def start_engine(self):\n",
        "        print(\"🚗 Car engine started.\")\n",
        "\n",
        "    def stop_engine(self):\n",
        "        print(\"🚗 Car engine stopped.\")\n",
        "\n",
        "class Bike(Vehicle):\n",
        "    \"\"\"Another concrete class implementing the Vehicle abstract class.\"\"\"\n",
        "\n",
        "    def start_engine(self):\n",
        "        print(\"🏍️ Bike engine started.\")\n",
        "\n",
        "    def stop_engine(self):\n",
        "        print(\"🏍️ Bike engine stopped.\")\n",
        "\n",
        "# Creating objects\n",
        "car = Car()\n",
        "bike = Bike()\n",
        "\n",
        "# Using the objects\n",
        "car.start_engine()\n",
        "car.stop_engine()\n",
        "\n",
        "bike.start_engine()\n",
        "bike.stop_engine()\n",
        "\n",
        "# The following will raise an error if uncommented:\n",
        "# v = Vehicle()  # TypeError: Can't instantiate abstract class"
      ],
      "metadata": {
        "colab": {
          "base_uri": "https://localhost:8080/"
        },
        "id": "CUQIM5FLWzsO",
        "outputId": "bd2e5965-316b-4977-e4a7-0b222317bf5d"
      },
      "execution_count": 1,
      "outputs": [
        {
          "output_type": "stream",
          "name": "stdout",
          "text": [
            "🚗 Car engine started.\n",
            "🚗 Car engine stopped.\n",
            "🏍️ Bike engine started.\n",
            "🏍️ Bike engine stopped.\n"
          ]
        }
      ]
    },
    {
      "cell_type": "code",
      "source": [],
      "metadata": {
        "id": "lAhq_z8aW4mO"
      },
      "execution_count": null,
      "outputs": []
    }
  ]
}