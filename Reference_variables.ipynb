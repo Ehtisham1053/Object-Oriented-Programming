{
  "nbformat": 4,
  "nbformat_minor": 0,
  "metadata": {
    "colab": {
      "provenance": [],
      "authorship_tag": "ABX9TyO6N3kdZi+aM23wwfhkDSG7",
      "include_colab_link": true
    },
    "kernelspec": {
      "name": "python3",
      "display_name": "Python 3"
    },
    "language_info": {
      "name": "python"
    }
  },
  "cells": [
    {
      "cell_type": "markdown",
      "metadata": {
        "id": "view-in-github",
        "colab_type": "text"
      },
      "source": [
        "<a href=\"https://colab.research.google.com/github/Ehtisham1053/Object-Oriented-Programming/blob/main/Reference_variables.ipynb\" target=\"_parent\"><img src=\"https://colab.research.google.com/assets/colab-badge.svg\" alt=\"Open In Colab\"/></a>"
      ]
    },
    {
      "cell_type": "markdown",
      "source": [
        "# 📘 Reference Variable, Call by Value & Call by Reference in Python\n",
        "\n",
        "---\n",
        "\n",
        "## 📌 Reference Variable in Python\n",
        "\n",
        "A **reference variable** is simply a variable that refers to an object in memory.  \n",
        "In Python, variables do **not** store the actual data; instead, they store **references (addresses)** to the data objects.\n",
        "\n",
        "### ✅ Example:\n",
        "\n",
        "```python\n",
        "x = [1, 2, 3]\n",
        "y = x\n"
      ],
      "metadata": {
        "id": "U2-r59J71Kf_"
      }
    },
    {
      "cell_type": "code",
      "source": [
        "'''\n",
        "🧠 Call by Value vs Call by Reference\n",
        "📎 In traditional programming:\n",
        "Call by Value: A copy of the value is passed.\n",
        "Modifying it does not affect the original variable.\n",
        "\n",
        "Call by Reference: A reference (address) to the actual variable is passed.\n",
        "Modifying it affects the original variable.\n",
        "\n",
        "🔁 In Python?\n",
        "Python uses Call by Object Reference (also called Call by Sharing) mechanism:\n",
        "\n",
        "Mutable objects (like list, dict, set) behave like Call by Reference.\n",
        "Changes inside the function affect the original object.\n",
        "\n",
        "Immutable objects (like int, str, tuple) behave like Call by Value.\n",
        "Changes inside the function do not affect the original object.\n",
        "\n",
        "'''"
      ],
      "metadata": {
        "colab": {
          "base_uri": "https://localhost:8080/",
          "height": 109
        },
        "id": "PEUaD8hr1PsL",
        "outputId": "e3c060e1-53e0-4d68-f6d8-384ffbf102fa"
      },
      "execution_count": 2,
      "outputs": [
        {
          "output_type": "execute_result",
          "data": {
            "text/plain": [
              "'\\n🧠 Call by Value vs Call by Reference\\n📎 In traditional programming:\\nCall by Value: A copy of the value is passed.\\nModifying it does not affect the original variable.\\n\\nCall by Reference: A reference (address) to the actual variable is passed.\\nModifying it affects the original variable.\\n\\n🔁 In Python?\\nPython uses Call by Object Reference (also called Call by Sharing) mechanism:\\n\\nMutable objects (like list, dict, set) behave like Call by Reference.\\nChanges inside the function affect the original object.\\n\\nImmutable objects (like int, str, tuple) behave like Call by Value.\\nChanges inside the function do not affect the original object.\\n\\n'"
            ],
            "application/vnd.google.colaboratory.intrinsic+json": {
              "type": "string"
            }
          },
          "metadata": {},
          "execution_count": 2
        }
      ]
    },
    {
      "cell_type": "code",
      "execution_count": 1,
      "metadata": {
        "colab": {
          "base_uri": "https://localhost:8080/"
        },
        "id": "gTbAA1Kt0pkb",
        "outputId": "5d3cf90d-5bca-4435-f322-c9f0e2562b9b"
      },
      "outputs": [
        {
          "output_type": "stream",
          "name": "stdout",
          "text": [
            "🔁 Reference Variable Example\n",
            "a: [1, 2, 3, 4]\n",
            "b: [1, 2, 3, 4]\n",
            "Are a and b same object? True\n",
            "\n",
            "🔒 Call by Value Example (Immutable)\n",
            "Inside function before change: 50\n",
            "Inside function after change: 100\n",
            "Outside function: 50\n",
            "\n",
            "🔓 Call by Reference Example (Mutable)\n",
            "Inside function before change: [1, 2, 3]\n",
            "Inside function after change: [1, 2, 3, 10]\n",
            "Outside function: [1, 2, 3, 10]\n"
          ]
        }
      ],
      "source": [
        "# Reference variable example\n",
        "print(\"🔁 Reference Variable Example\")\n",
        "a = [1, 2, 3]\n",
        "b = a  # b references the same list as a\n",
        "b.append(4)\n",
        "\n",
        "print(\"a:\", a)  # Output: [1, 2, 3, 4]\n",
        "print(\"b:\", b)  # Output: [1, 2, 3, 4]\n",
        "print(\"Are a and b same object?\", a is b)  # True\n",
        "\n",
        "# Call by Value (Immutable Type)\n",
        "print(\"\\n🔒 Call by Value Example (Immutable)\")\n",
        "\n",
        "def modify_primitive(x):\n",
        "    print(\"Inside function before change:\", x)\n",
        "    x = 100  # This will not change the original value\n",
        "    print(\"Inside function after change:\", x)\n",
        "\n",
        "num = 50\n",
        "modify_primitive(num)\n",
        "print(\"Outside function:\", num)  # Still 50\n",
        "\n",
        "# Call by Reference (Mutable Type)\n",
        "print(\"\\n🔓 Call by Reference Example (Mutable)\")\n",
        "\n",
        "def modify_list(lst):\n",
        "    print(\"Inside function before change:\", lst)\n",
        "    lst.append(10)  # Modifies the original list\n",
        "    print(\"Inside function after change:\", lst)\n",
        "\n",
        "my_list = [1, 2, 3]\n",
        "modify_list(my_list)\n",
        "print(\"Outside function:\", my_list)  # Changed list: [1, 2, 3, 10]\n"
      ]
    },
    {
      "cell_type": "code",
      "source": [],
      "metadata": {
        "id": "ko2CBQFd0ycp"
      },
      "execution_count": null,
      "outputs": []
    }
  ]
}