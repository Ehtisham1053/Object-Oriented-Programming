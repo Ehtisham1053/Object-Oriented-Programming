{
  "nbformat": 4,
  "nbformat_minor": 0,
  "metadata": {
    "colab": {
      "provenance": [],
      "authorship_tag": "ABX9TyNw8hXa8iu7tKaBzUYYjOoQ",
      "include_colab_link": true
    },
    "kernelspec": {
      "name": "python3",
      "display_name": "Python 3"
    },
    "language_info": {
      "name": "python"
    }
  },
  "cells": [
    {
      "cell_type": "markdown",
      "metadata": {
        "id": "view-in-github",
        "colab_type": "text"
      },
      "source": [
        "<a href=\"https://colab.research.google.com/github/Ehtisham1053/Object-Oriented-Programming/blob/main/Class_relationships.ipynb\" target=\"_parent\"><img src=\"https://colab.research.google.com/assets/colab-badge.svg\" alt=\"Open In Colab\"/></a>"
      ]
    },
    {
      "cell_type": "markdown",
      "source": [
        "# Aggregation"
      ],
      "metadata": {
        "id": "8FvwVFHfatNi"
      }
    },
    {
      "cell_type": "markdown",
      "source": [
        "# 🧩 Aggregation in Python (Object-Oriented Programming)\n",
        "\n",
        "---\n",
        "\n",
        "## 🔹 What is Aggregation?\n",
        "\n",
        "**Aggregation** is a concept in Object-Oriented Programming (OOP) that represents a **\"has-a\"** relationship between two classes.\n",
        "\n",
        "It means that **one class contains a reference to another class**, but both can exist **independently**.\n",
        "\n",
        "- If the contained object can exist **without** the container object, it's **Aggregation**.\n",
        "- It’s a **weaker relationship** than Composition.\n",
        "\n",
        "---\n",
        "\n",
        "## 🧠 Example Scenario:\n",
        "\n",
        "A **Library** has many **Books**.  \n",
        "Even if the Library is destroyed, the Books can still exist.\n",
        "\n",
        "So:\n",
        "- `Library` class **aggregates** `Book` objects.\n",
        "- It **does not own** them entirely.\n",
        "\n",
        "---\n",
        "\n",
        "## ✅ Features of Aggregation:\n",
        "\n",
        "- It's a part-whole relationship.\n",
        "- Lifetimes of objects are **independent**.\n",
        "- One class holds a **reference** to another class.\n",
        "- Useful for modeling **real-world relationships**.\n",
        "\n",
        "---\n",
        "\n",
        "## 📌 UML Representation:\n",
        "- Shown as a **hollow diamond** in UML diagrams (not relevant in code but good to know).\n",
        "\n",
        "---\n",
        "\n",
        "## 📎 Summary\n",
        "\n",
        "| Feature              | Description                              |\n",
        "|----------------------|------------------------------------------|\n",
        "| Relationship Type    | \"Has-a\"                                  |\n",
        "| Ownership            | No (shared reference)                    |\n",
        "| Lifetime Dependency  | Independent                              |\n",
        "| Example              | Library has Books, Company has Employees |\n",
        "\n",
        "---\n"
      ],
      "metadata": {
        "id": "995Zv2q7awUu"
      }
    },
    {
      "cell_type": "code",
      "execution_count": 1,
      "metadata": {
        "id": "LYgbm1uYUy2p"
      },
      "outputs": [],
      "source": [
        "class Customer:\n",
        "\n",
        "  def __init__(self, name, age, address):\n",
        "    self.name = name\n",
        "    self.age = age\n",
        "    self.address = address\n",
        "\n",
        "\n",
        "  def __str__(self):\n",
        "    return f\"Name: {self.name}, Age: {self.age}, Address: {self.address}\"\n",
        "\n",
        "\n",
        "class Address:\n",
        "  def __init__(self, street, city, state, zipcode):\n",
        "    self.street = street\n",
        "    self.city = city\n",
        "    self.state = state\n",
        "    self.zipcode = zipcode\n",
        "\n",
        "  def __str__(self):\n",
        "    return f\"{self.street}, {self.city}, {self.state}, {self.zipcode}\""
      ]
    },
    {
      "cell_type": "code",
      "source": [
        "address1 = Address(\"123 Main St\", \"Anytown\", \"CA\", \"12345\")\n",
        "customer1 = Customer(\"John Doe\", 30, address1)\n",
        "\n",
        "print(customer1)\n"
      ],
      "metadata": {
        "colab": {
          "base_uri": "https://localhost:8080/"
        },
        "id": "RvV4qvJubD43",
        "outputId": "5d85ba6a-4852-405d-aac1-9db45a0e6fb2"
      },
      "execution_count": 2,
      "outputs": [
        {
          "output_type": "stream",
          "name": "stdout",
          "text": [
            "Name: John Doe, Age: 30, Address: 123 Main St, Anytown, CA, 12345\n"
          ]
        }
      ]
    },
    {
      "cell_type": "code",
      "source": [],
      "metadata": {
        "id": "lfxt8eDUbKij"
      },
      "execution_count": null,
      "outputs": []
    },
    {
      "cell_type": "markdown",
      "source": [
        "## Another Example"
      ],
      "metadata": {
        "id": "BD0HfBErbSal"
      }
    },
    {
      "cell_type": "code",
      "source": [
        "class Book:\n",
        "    def __init__(self, title):\n",
        "        self.title = title\n",
        "\n",
        "    def __str__(self):\n",
        "        return f\"Book Title: {self.title}\"\n",
        "\n",
        "\n",
        "class Library:\n",
        "    def __init__(self, name, books):\n",
        "        self.name = name\n",
        "        self.books = books  # Aggregation: List of Book objects\n",
        "\n",
        "    def display_books(self):\n",
        "        print(f\"\\n📚 Library: {self.name} has the following books:\")\n",
        "        for book in self.books:\n",
        "            print(f\" - {book}\")\n",
        "\n",
        "\n",
        "\n",
        "book1 = Book(\"Python Crash Course\")\n",
        "book2 = Book(\"Fluent Python\")\n",
        "book3 = Book(\"Automate the Boring Stuff\")\n",
        "\n",
        "\n",
        "book_list = [book1, book2, book3]\n",
        "\n",
        "# Create library object and pass books (Aggregation)\n",
        "my_library = Library(\"City Central Library\", book_list)\n",
        "\n",
        "# Display books\n",
        "my_library.display_books()\n",
        "\n",
        "\n",
        "del my_library\n",
        "print(f\"\\n📘 Book still exists after deleting library: {book1}\")\n"
      ],
      "metadata": {
        "colab": {
          "base_uri": "https://localhost:8080/"
        },
        "id": "IR4qJzWYbR3u",
        "outputId": "2c175336-329e-465e-ac8d-0fd4b1a7adb6"
      },
      "execution_count": 4,
      "outputs": [
        {
          "output_type": "stream",
          "name": "stdout",
          "text": [
            "\n",
            "📚 Library: City Central Library has the following books:\n",
            " - Book Title: Python Crash Course\n",
            " - Book Title: Fluent Python\n",
            " - Book Title: Automate the Boring Stuff\n",
            "\n",
            "📘 Book still exists after deleting library: Book Title: Python Crash Course\n"
          ]
        }
      ]
    },
    {
      "cell_type": "code",
      "source": [],
      "metadata": {
        "id": "M0xyjJ07bX97"
      },
      "execution_count": null,
      "outputs": []
    }
  ]
}