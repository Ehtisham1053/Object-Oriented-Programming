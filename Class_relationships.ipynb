{
  "nbformat": 4,
  "nbformat_minor": 0,
  "metadata": {
    "colab": {
      "provenance": [],
      "authorship_tag": "ABX9TyNcivKdEAl4xRktG3zLkB8g",
      "include_colab_link": true
    },
    "kernelspec": {
      "name": "python3",
      "display_name": "Python 3"
    },
    "language_info": {
      "name": "python"
    }
  },
  "cells": [
    {
      "cell_type": "markdown",
      "metadata": {
        "id": "view-in-github",
        "colab_type": "text"
      },
      "source": [
        "<a href=\"https://colab.research.google.com/github/Ehtisham1053/Object-Oriented-Programming/blob/main/Class_relationships.ipynb\" target=\"_parent\"><img src=\"https://colab.research.google.com/assets/colab-badge.svg\" alt=\"Open In Colab\"/></a>"
      ]
    },
    {
      "cell_type": "markdown",
      "source": [
        "# Aggregation"
      ],
      "metadata": {
        "id": "8FvwVFHfatNi"
      }
    },
    {
      "cell_type": "markdown",
      "source": [
        "# 🧩 Aggregation in Python (Object-Oriented Programming)\n",
        "\n",
        "---\n",
        "\n",
        "## 🔹 What is Aggregation?\n",
        "\n",
        "**Aggregation** is a concept in Object-Oriented Programming (OOP) that represents a **\"has-a\"** relationship between two classes.\n",
        "\n",
        "It means that **one class contains a reference to another class**, but both can exist **independently**.\n",
        "\n",
        "- If the contained object can exist **without** the container object, it's **Aggregation**.\n",
        "- It’s a **weaker relationship** than Composition.\n",
        "\n",
        "---\n",
        "\n",
        "## 🧠 Example Scenario:\n",
        "\n",
        "A **Library** has many **Books**.  \n",
        "Even if the Library is destroyed, the Books can still exist.\n",
        "\n",
        "So:\n",
        "- `Library` class **aggregates** `Book` objects.\n",
        "- It **does not own** them entirely.\n",
        "\n",
        "---\n",
        "\n",
        "## ✅ Features of Aggregation:\n",
        "\n",
        "- It's a part-whole relationship.\n",
        "- Lifetimes of objects are **independent**.\n",
        "- One class holds a **reference** to another class.\n",
        "- Useful for modeling **real-world relationships**.\n",
        "\n",
        "---\n",
        "\n",
        "## 📌 UML Representation:\n",
        "- Shown as a **hollow diamond** in UML diagrams (not relevant in code but good to know).\n",
        "\n",
        "---\n",
        "\n",
        "## 📎 Summary\n",
        "\n",
        "| Feature              | Description                              |\n",
        "|----------------------|------------------------------------------|\n",
        "| Relationship Type    | \"Has-a\"                                  |\n",
        "| Ownership            | No (shared reference)                    |\n",
        "| Lifetime Dependency  | Independent                              |\n",
        "| Example              | Library has Books, Company has Employees |\n",
        "\n",
        "---\n"
      ],
      "metadata": {
        "id": "995Zv2q7awUu"
      }
    },
    {
      "cell_type": "code",
      "execution_count": 1,
      "metadata": {
        "id": "LYgbm1uYUy2p"
      },
      "outputs": [],
      "source": [
        "class Customer:\n",
        "\n",
        "  def __init__(self, name, age, address):\n",
        "    self.name = name\n",
        "    self.age = age\n",
        "    self.address = address\n",
        "\n",
        "\n",
        "  def __str__(self):\n",
        "    return f\"Name: {self.name}, Age: {self.age}, Address: {self.address}\"\n",
        "\n",
        "\n",
        "class Address:\n",
        "  def __init__(self, street, city, state, zipcode):\n",
        "    self.street = street\n",
        "    self.city = city\n",
        "    self.state = state\n",
        "    self.zipcode = zipcode\n",
        "\n",
        "  def __str__(self):\n",
        "    return f\"{self.street}, {self.city}, {self.state}, {self.zipcode}\""
      ]
    },
    {
      "cell_type": "code",
      "source": [
        "address1 = Address(\"123 Main St\", \"Anytown\", \"CA\", \"12345\")\n",
        "customer1 = Customer(\"John Doe\", 30, address1)\n",
        "\n",
        "print(customer1)\n"
      ],
      "metadata": {
        "colab": {
          "base_uri": "https://localhost:8080/"
        },
        "id": "RvV4qvJubD43",
        "outputId": "5d85ba6a-4852-405d-aac1-9db45a0e6fb2"
      },
      "execution_count": 2,
      "outputs": [
        {
          "output_type": "stream",
          "name": "stdout",
          "text": [
            "Name: John Doe, Age: 30, Address: 123 Main St, Anytown, CA, 12345\n"
          ]
        }
      ]
    },
    {
      "cell_type": "code",
      "source": [],
      "metadata": {
        "id": "lfxt8eDUbKij"
      },
      "execution_count": null,
      "outputs": []
    },
    {
      "cell_type": "markdown",
      "source": [
        "## Another Example"
      ],
      "metadata": {
        "id": "BD0HfBErbSal"
      }
    },
    {
      "cell_type": "code",
      "source": [
        "class Book:\n",
        "    def __init__(self, title):\n",
        "        self.title = title\n",
        "\n",
        "    def __str__(self):\n",
        "        return f\"Book Title: {self.title}\"\n",
        "\n",
        "\n",
        "class Library:\n",
        "    def __init__(self, name, books):\n",
        "        self.name = name\n",
        "        self.books = books  # Aggregation: List of Book objects\n",
        "\n",
        "    def display_books(self):\n",
        "        print(f\"\\n📚 Library: {self.name} has the following books:\")\n",
        "        for book in self.books:\n",
        "            print(f\" - {book}\")\n",
        "\n",
        "\n",
        "\n",
        "book1 = Book(\"Python Crash Course\")\n",
        "book2 = Book(\"Fluent Python\")\n",
        "book3 = Book(\"Automate the Boring Stuff\")\n",
        "\n",
        "\n",
        "book_list = [book1, book2, book3]\n",
        "\n",
        "# Create library object and pass books (Aggregation)\n",
        "my_library = Library(\"City Central Library\", book_list)\n",
        "\n",
        "# Display books\n",
        "my_library.display_books()\n",
        "\n",
        "\n",
        "del my_library\n",
        "print(f\"\\n📘 Book still exists after deleting library: {book1}\")\n"
      ],
      "metadata": {
        "colab": {
          "base_uri": "https://localhost:8080/"
        },
        "id": "IR4qJzWYbR3u",
        "outputId": "2c175336-329e-465e-ac8d-0fd4b1a7adb6"
      },
      "execution_count": 4,
      "outputs": [
        {
          "output_type": "stream",
          "name": "stdout",
          "text": [
            "\n",
            "📚 Library: City Central Library has the following books:\n",
            " - Book Title: Python Crash Course\n",
            " - Book Title: Fluent Python\n",
            " - Book Title: Automate the Boring Stuff\n",
            "\n",
            "📘 Book still exists after deleting library: Book Title: Python Crash Course\n"
          ]
        }
      ]
    },
    {
      "cell_type": "code",
      "source": [],
      "metadata": {
        "id": "M0xyjJ07bX97"
      },
      "execution_count": null,
      "outputs": []
    },
    {
      "cell_type": "markdown",
      "source": [
        "# Inheritance"
      ],
      "metadata": {
        "id": "pL_hTwoKdXoC"
      }
    },
    {
      "cell_type": "markdown",
      "source": [
        "# 🧬 Inheritance in Python (OOP)\n",
        "\n",
        "---\n",
        "\n",
        "## 🔹 What is Inheritance?\n",
        "\n",
        "**Inheritance** is one of the core principles of Object-Oriented Programming (OOP).  \n",
        "It allows a **new class (child or derived class)** to inherit **attributes and methods** from an **existing class (parent or base class)**.\n",
        "\n",
        "---\n",
        "\n",
        "## ✅ Purpose of Inheritance:\n",
        "\n",
        "- Promotes **code reusability**.\n",
        "- Supports **extensibility**.\n",
        "- Enables **polymorphism** (overriding methods).\n",
        "\n",
        "---\n",
        "\n",
        "## 🧱 Types of Inheritance in Python:\n",
        "\n",
        "1. **Single Inheritance**  \n",
        "   One child inherits from one parent.\n",
        "\n",
        "2. **Multilevel Inheritance**  \n",
        "   Child inherits from parent, and then another child inherits from the first child.\n",
        "\n",
        "3. **Multiple Inheritance**  \n",
        "   A child inherits from multiple parent classes.\n",
        "\n",
        "4. **Hierarchical Inheritance**  \n",
        "   Multiple children inherit from a single parent.\n",
        "\n",
        "5. **Hybrid Inheritance**  \n",
        "   A mix of two or more types of inheritance.\n",
        "\n",
        "---\n",
        "\n",
        "## 🧠 Key Concepts:\n",
        "\n",
        "| Term             | Description |\n",
        "|------------------|-------------|\n",
        "| Base Class       | The class being inherited from |\n",
        "| Derived Class    | The class that inherits from the base class |\n",
        "| `super()`        | Function to call parent class methods/constructors |\n",
        "| Method Overriding | Redefining a parent method in the child class |\n",
        "\n",
        "---\n",
        "\n",
        "## 📌 Syntax:\n",
        "\n",
        "```python\n",
        "class Parent:\n",
        "    # Parent members\n",
        "\n",
        "class Child(Parent):\n",
        "    # Child members\n"
      ],
      "metadata": {
        "id": "cogrERRfdZeB"
      }
    },
    {
      "cell_type": "code",
      "source": [
        "# 📌 Base Class\n",
        "class Animal:\n",
        "    def __init__(self, name):\n",
        "        self.name = name\n",
        "\n",
        "    def speak(self):\n",
        "        return f\"{self.name} makes a sound.\"\n",
        "\n",
        "\n",
        "# ✅ Single Inheritance\n",
        "class Dog(Animal):\n",
        "    def speak(self):\n",
        "        return f\"{self.name} says Woof!\"\n",
        "\n",
        "\n",
        "# ✅ Multilevel Inheritance\n",
        "class Puppy(Dog):\n",
        "    def behavior(self):\n",
        "        return f\"{self.name} is a playful puppy.\"\n",
        "\n",
        "\n",
        "# ✅ Multiple Inheritance\n",
        "class CanBark:\n",
        "    def bark(self):\n",
        "        return \"Can bark loudly.\"\n",
        "\n",
        "\n",
        "class GuardDog(Dog, CanBark):\n",
        "    def duty(self):\n",
        "        return f\"{self.name} is guarding the house.\"\n",
        "\n",
        "\n",
        "\n",
        "class Cat(Animal):\n",
        "    def speak(self):\n",
        "        return f\"{self.name} says Meow!\"\n",
        "\n",
        "\n",
        "\n",
        "class CutePet(Puppy, CanBark):\n",
        "    def __str__(self):\n",
        "        return f\"{self.name} is a cute barking pet.\"\n",
        "\n",
        "\n",
        "# 🔍 Demonstration\n",
        "a = Animal(\"Animal\")\n",
        "d = Dog(\"Doggo\")\n",
        "p = Puppy(\"Pup\")\n",
        "gd = GuardDog(\"Rex\")\n",
        "c = Cat(\"Kitty\")\n",
        "cp = CutePet(\"Fluffy\")\n",
        "\n",
        "print(a.speak())\n",
        "print(d.speak())\n",
        "print(p.speak())\n",
        "print(p.behavior())\n",
        "print(gd.speak())\n",
        "print(gd.bark())\n",
        "print(gd.duty())\n",
        "print(c.speak())\n",
        "print(cp.speak())\n",
        "print(cp.bark())\n",
        "print(cp.behavior())"
      ],
      "metadata": {
        "colab": {
          "base_uri": "https://localhost:8080/"
        },
        "id": "lYxB6DuSdY0A",
        "outputId": "ad998e75-6af1-48a3-c478-a2b5fa6e3bf8"
      },
      "execution_count": 5,
      "outputs": [
        {
          "output_type": "stream",
          "name": "stdout",
          "text": [
            "Animal makes a sound.\n",
            "Doggo says Woof!\n",
            "Pup says Woof!\n",
            "Pup is a playful puppy.\n",
            "Rex says Woof!\n",
            "Can bark loudly.\n",
            "Rex is guarding the house.\n",
            "Kitty says Meow!\n",
            "Fluffy says Woof!\n",
            "Can bark loudly.\n",
            "Fluffy is a playful puppy.\n"
          ]
        }
      ]
    },
    {
      "cell_type": "code",
      "source": [],
      "metadata": {
        "id": "DRypHm16drIR"
      },
      "execution_count": null,
      "outputs": []
    },
    {
      "cell_type": "markdown",
      "source": [
        "# Diamond problem"
      ],
      "metadata": {
        "id": "nsmn8QbCdw8x"
      }
    },
    {
      "cell_type": "code",
      "source": [
        "class A:\n",
        "    def greet(self):\n",
        "        print(\"Hello from A\")\n",
        "\n",
        "class B(A):\n",
        "    def greet(self):\n",
        "        print(\"Hello from B\")\n",
        "\n",
        "class C(A):\n",
        "    def greet(self):\n",
        "        print(\"Hello from C\")\n",
        "\n",
        "class D(B, C):\n",
        "    pass\n",
        "\n",
        "obj = D()\n",
        "obj.greet()  # Which greet() will be called?\n",
        "\n",
        "\n",
        "print(D.__mro__)\n"
      ],
      "metadata": {
        "colab": {
          "base_uri": "https://localhost:8080/"
        },
        "id": "QS2vZzrbdyoX",
        "outputId": "c947ec2b-cefe-4c5b-df07-869541cea41d"
      },
      "execution_count": 6,
      "outputs": [
        {
          "output_type": "stream",
          "name": "stdout",
          "text": [
            "Hello from B\n",
            "(<class '__main__.D'>, <class '__main__.B'>, <class '__main__.C'>, <class '__main__.A'>, <class 'object'>)\n"
          ]
        }
      ]
    },
    {
      "cell_type": "code",
      "source": [],
      "metadata": {
        "id": "fvfUtfSSdzFX"
      },
      "execution_count": null,
      "outputs": []
    }
  ]
}