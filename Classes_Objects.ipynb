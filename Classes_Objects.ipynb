{
  "nbformat": 4,
  "nbformat_minor": 0,
  "metadata": {
    "colab": {
      "provenance": [],
      "authorship_tag": "ABX9TyNNjy3EBuU4XIPWxdCrxRzl",
      "include_colab_link": true
    },
    "kernelspec": {
      "name": "python3",
      "display_name": "Python 3"
    },
    "language_info": {
      "name": "python"
    }
  },
  "cells": [
    {
      "cell_type": "markdown",
      "metadata": {
        "id": "view-in-github",
        "colab_type": "text"
      },
      "source": [
        "<a href=\"https://colab.research.google.com/github/Ehtisham1053/Object-Oriented-Programming/blob/main/Classes_Objects.ipynb\" target=\"_parent\"><img src=\"https://colab.research.google.com/assets/colab-badge.svg\" alt=\"Open In Colab\"/></a>"
      ]
    },
    {
      "cell_type": "markdown",
      "source": [
        "# 🧱 Object-Oriented Programming (OOP) in Python: Class and Object\n",
        "\n",
        "---\n",
        "\n",
        "## 🧩 What is a Class?\n",
        "\n",
        "- A **class** is a user-defined blueprint or prototype from which objects are created.\n",
        "- It encapsulates data for the object and methods to manipulate that data.\n",
        "- A class defines **attributes** (variables) and **methods** (functions) that will be shared by all objects created from it.\n",
        "\n",
        "**Example Analogy:**  \n",
        "If we think of \"Dog\" as a class, individual dogs like \"Tommy\" or \"Rocky\" are objects (instances) of that class.\n",
        "\n",
        "---\n",
        "\n",
        "## 🎯 What is an Object?\n",
        "\n",
        "- An **object** is an instance of a class.\n",
        "- It is the real-world entity that has **state (attributes)** and **behavior (methods)**.\n",
        "- Each object is independent and can hold different data but shares the same class structure.\n",
        "\n",
        "---\n",
        "\n",
        "## 💡 Why Use Classes and Objects?\n",
        "\n",
        "- Helps in organizing code in a **modular** and **reusable** manner.\n",
        "- Facilitates implementation of core **OOP principles**:\n",
        "  - **Encapsulation**: Bundling data and methods that operate on that data.\n",
        "  - **Abstraction**: Hiding complex implementation details.\n",
        "  - **Inheritance**: Reusing code from other classes.\n",
        "  - **Polymorphism**: Using a single interface for multiple forms (methods).\n",
        "\n",
        "---\n",
        "\n",
        "## 📦 Syntax of a Class\n",
        "\n",
        "```python\n",
        "class ClassName:\n",
        "    def __init__(self, parameters):\n",
        "        # instance attributes\n",
        "        self.attribute = value\n",
        "\n",
        "    def method_name(self):\n",
        "        # method logic\n",
        "        pass\n"
      ],
      "metadata": {
        "id": "70gY0t8tZKHl"
      }
    },
    {
      "cell_type": "code",
      "execution_count": 1,
      "metadata": {
        "colab": {
          "base_uri": "https://localhost:8080/"
        },
        "id": "_sBBTTsAMEih",
        "outputId": "c3a4b42d-5ca1-4a27-b81b-ec391e9cd282"
      },
      "outputs": [
        {
          "output_type": "stream",
          "name": "stdout",
          "text": [
            "Brand: Toyota, Model: Corolla\n"
          ]
        }
      ],
      "source": [
        "class Car:\n",
        "    def __init__(self, brand, model):\n",
        "        self.brand = brand\n",
        "        self.model = model\n",
        "\n",
        "    def show_info(self):\n",
        "        print(f\"Brand: {self.brand}, Model: {self.model}\")\n",
        "\n",
        "# Creating Object\n",
        "car1 = Car(\"Toyota\", \"Corolla\")\n",
        "car1.show_info()\n"
      ]
    },
    {
      "cell_type": "markdown",
      "source": [
        "# 🧱 Syntax to Define a Class in Python\n",
        "\n",
        "---\n",
        "\n",
        "## 🧩 Basic Structure of a Class\n",
        "\n",
        "```python\n",
        "class ClassName:\n",
        "    def __init__(self, parameters):\n",
        "        # Constructor to initialize attributes\n",
        "        self.attribute1 = value1\n",
        "        self.attribute2 = value2\n",
        "\n",
        "    def method1(self, parameters):\n",
        "        # Method logic\n",
        "        pass\n",
        "\n",
        "    def method2(self, parameters):\n",
        "        # Another method logic\n",
        "        pass\n"
      ],
      "metadata": {
        "id": "pxRMmNn7lQNW"
      }
    },
    {
      "cell_type": "code",
      "source": [],
      "metadata": {
        "id": "aXdb3RrEZSnf"
      },
      "execution_count": null,
      "outputs": []
    }
  ]
}