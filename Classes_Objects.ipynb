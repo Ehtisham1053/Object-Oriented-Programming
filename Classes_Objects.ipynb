{
  "nbformat": 4,
  "nbformat_minor": 0,
  "metadata": {
    "colab": {
      "provenance": [],
      "authorship_tag": "ABX9TyNIjH6pogl0OJA9RFkYnHUu",
      "include_colab_link": true
    },
    "kernelspec": {
      "name": "python3",
      "display_name": "Python 3"
    },
    "language_info": {
      "name": "python"
    }
  },
  "cells": [
    {
      "cell_type": "markdown",
      "metadata": {
        "id": "view-in-github",
        "colab_type": "text"
      },
      "source": [
        "<a href=\"https://colab.research.google.com/github/Ehtisham1053/Object-Oriented-Programming/blob/main/Classes_Objects.ipynb\" target=\"_parent\"><img src=\"https://colab.research.google.com/assets/colab-badge.svg\" alt=\"Open In Colab\"/></a>"
      ]
    },
    {
      "cell_type": "markdown",
      "source": [
        "# 🧱 Object-Oriented Programming (OOP) in Python: Class and Object\n",
        "\n",
        "---\n",
        "\n",
        "## 🧩 What is a Class?\n",
        "\n",
        "- A **class** is a user-defined blueprint or prototype from which objects are created.\n",
        "- It encapsulates data for the object and methods to manipulate that data.\n",
        "- A class defines **attributes** (variables) and **methods** (functions) that will be shared by all objects created from it.\n",
        "\n",
        "**Example Analogy:**  \n",
        "If we think of \"Dog\" as a class, individual dogs like \"Tommy\" or \"Rocky\" are objects (instances) of that class.\n",
        "\n",
        "---\n",
        "\n",
        "## 🎯 What is an Object?\n",
        "\n",
        "- An **object** is an instance of a class.\n",
        "- It is the real-world entity that has **state (attributes)** and **behavior (methods)**.\n",
        "- Each object is independent and can hold different data but shares the same class structure.\n",
        "\n",
        "---\n",
        "\n",
        "## 💡 Why Use Classes and Objects?\n",
        "\n",
        "- Helps in organizing code in a **modular** and **reusable** manner.\n",
        "- Facilitates implementation of core **OOP principles**:\n",
        "  - **Encapsulation**: Bundling data and methods that operate on that data.\n",
        "  - **Abstraction**: Hiding complex implementation details.\n",
        "  - **Inheritance**: Reusing code from other classes.\n",
        "  - **Polymorphism**: Using a single interface for multiple forms (methods).\n",
        "\n",
        "---\n",
        "\n",
        "## 📦 Syntax of a Class\n",
        "\n",
        "```python\n",
        "class ClassName:\n",
        "    def __init__(self, parameters):\n",
        "        # instance attributes\n",
        "        self.attribute = value\n",
        "\n",
        "    def method_name(self):\n",
        "        # method logic\n",
        "        pass\n"
      ],
      "metadata": {
        "id": "70gY0t8tZKHl"
      }
    },
    {
      "cell_type": "code",
      "execution_count": 1,
      "metadata": {
        "colab": {
          "base_uri": "https://localhost:8080/"
        },
        "id": "_sBBTTsAMEih",
        "outputId": "c3a4b42d-5ca1-4a27-b81b-ec391e9cd282"
      },
      "outputs": [
        {
          "output_type": "stream",
          "name": "stdout",
          "text": [
            "Brand: Toyota, Model: Corolla\n"
          ]
        }
      ],
      "source": [
        "class Car:\n",
        "    def __init__(self, brand, model):\n",
        "        self.brand = brand\n",
        "        self.model = model\n",
        "\n",
        "    def show_info(self):\n",
        "        print(f\"Brand: {self.brand}, Model: {self.model}\")\n",
        "\n",
        "# Creating Object\n",
        "car1 = Car(\"Toyota\", \"Corolla\")\n",
        "car1.show_info()\n"
      ]
    },
    {
      "cell_type": "markdown",
      "source": [
        "# 🧱 Syntax to Define a Class in Python\n",
        "\n",
        "---\n",
        "\n",
        "## 🧩 Basic Structure of a Class\n",
        "\n",
        "```python\n",
        "class ClassName:\n",
        "    def __init__(self, parameters):\n",
        "        # Constructor to initialize attributes\n",
        "        self.attribute1 = value1\n",
        "        self.attribute2 = value2\n",
        "\n",
        "    def method1(self, parameters):\n",
        "        # Method logic\n",
        "        pass\n",
        "\n",
        "    def method2(self, parameters):\n",
        "        # Another method logic\n",
        "        pass\n"
      ],
      "metadata": {
        "id": "pxRMmNn7lQNW"
      }
    },
    {
      "cell_type": "code",
      "source": [],
      "metadata": {
        "id": "aXdb3RrEZSnf"
      },
      "execution_count": null,
      "outputs": []
    },
    {
      "cell_type": "markdown",
      "source": [
        "# Magic Methods\n"
      ],
      "metadata": {
        "id": "gYpfOeUZo9oI"
      }
    },
    {
      "cell_type": "code",
      "source": [
        "class Book:\n",
        "    \"\"\"\n",
        "    A class to represent a Book with name and price.\n",
        "    Demonstrates use of magic methods.\n",
        "    \"\"\"\n",
        "\n",
        "    def __init__(self, title, price):\n",
        "        \"\"\"\n",
        "        Constructor to initialize Book object with title and price.\n",
        "        \"\"\"\n",
        "        self.title = title\n",
        "        self.price = price\n",
        "\n",
        "    def __str__(self):\n",
        "        \"\"\"\n",
        "        String representation of the object when printed using print().\n",
        "        \"\"\"\n",
        "        return f\"📘 Book: {self.title}, Price: ${self.price}\"\n",
        "\n",
        "    def __repr__(self):\n",
        "        \"\"\"\n",
        "        Official string representation used for debugging.\n",
        "        \"\"\"\n",
        "        return f\"Book('{self.title}', {self.price})\"\n",
        "\n",
        "    def __eq__(self, other):\n",
        "        \"\"\"\n",
        "        Compares two Book objects for equality based on title and price.\n",
        "        \"\"\"\n",
        "        return self.title == other.title and self.price == other.price\n",
        "\n",
        "    def __lt__(self, other):\n",
        "        \"\"\"\n",
        "        Less than comparison between two Book objects (by price).\n",
        "        \"\"\"\n",
        "        return self.price < other.price\n",
        "\n",
        "    def __add__(self, other):\n",
        "        \"\"\"\n",
        "        Adds the prices of two Book objects.\n",
        "        \"\"\"\n",
        "        return self.price + other.price\n",
        "\n",
        "    def __len__(self):\n",
        "        \"\"\"\n",
        "        Returns the length of the book's title.\n",
        "        \"\"\"\n",
        "        return len(self.title)\n",
        "\n",
        "\n",
        "# 🔍 Testing the Magic Methods\n",
        "\n",
        "book1 = Book(\"Python Crash Course\", 30)\n",
        "book2 = Book(\"Automate the Boring Stuff\", 25)\n",
        "book3 = Book(\"Python Crash Course\", 30)\n",
        "\n",
        "# __str__ method\n",
        "print(book1)\n",
        "\n",
        "# __repr__ method\n",
        "print(repr(book2))\n",
        "\n",
        "# __eq__ method\n",
        "print(book1 == book3)\n",
        "\n",
        "# __lt__ method\n",
        "print(book2 < book1)\n",
        "\n",
        "# __add__ method\n",
        "total = book1 + book2\n",
        "print(f\"Total price: ${total}\")\n",
        "\n",
        "# __len__ method\n",
        "print(f\"Length of book1 title: {len(book1)}\")\n"
      ],
      "metadata": {
        "colab": {
          "base_uri": "https://localhost:8080/"
        },
        "id": "OtYXwvdypAFq",
        "outputId": "8b2000bf-003a-43bc-c41a-8b446e6c0645"
      },
      "execution_count": 1,
      "outputs": [
        {
          "output_type": "stream",
          "name": "stdout",
          "text": [
            "📘 Book: Python Crash Course, Price: $30\n",
            "Book('Automate the Boring Stuff', 25)\n",
            "True\n",
            "True\n",
            "Total price: $55\n",
            "Length of book1 title: 19\n"
          ]
        }
      ]
    },
    {
      "cell_type": "code",
      "source": [],
      "metadata": {
        "id": "S74jW-nNpKVj"
      },
      "execution_count": null,
      "outputs": []
    }
  ]
}